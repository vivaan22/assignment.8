{
 "cells": [
  {
   "cell_type": "code",
   "execution_count": null,
   "id": "e79854f0",
   "metadata": {},
   "outputs": [],
   "source": [
    "import re\n",
    " \n",
    "# Make a regular expression\n",
    "# to accept string starting with vowel\n",
    "regex = '^[aeiouAEIOU][A-Za-z0-9_]*'\n",
    "     \n",
    "# Define a function for\n",
    "# accepting string start with vowel\n",
    "def check(string):\n",
    " \n",
    "     # pass the regular expression\n",
    "     # and the string in search() method\n",
    "    if(re.search(regex, string)):\n",
    "        print(\"Valid\")\n",
    "         \n",
    "    else:\n",
    "        print(\"Invalid\")\n",
    "     \n",
    " \n",
    "# Driver Code\n",
    "if __name__ == '__main__' :\n",
    "     \n",
    "    # Enter the string\n",
    "    string = \"kiran\"\n",
    "     \n",
    "    # calling run function\n",
    "    check(string)\n",
    " \n",
    "    string = \"geeks\"\n",
    "    check(string)\n",
    " \n",
    "    string = \"rajput\"\n",
    "    check(string)"
   ]
  },
  {
   "cell_type": "code",
   "execution_count": null,
   "id": "e7e92258",
   "metadata": {},
   "outputs": [],
   "source": [
    "st=input(\"Enter string:\") \n",
    "first=input(\"Enter first character:\") \n",
    "second=input(\"Enter second charaacter:\") \n",
    "c=0 \n",
    "count_b=st.count(second) \n",
    "count_a=st.count(first) \n",
    "if(count_a==count_b): \n",
    "    for i in range(len(st)): \n",
    "        if(st[i]==second): \n",
    "            if(st[i-1]==first): \n",
    "                c+=1 \n",
    "             \n",
    "if(c==count_a): \n",
    "    print(first+\" occur before \"+second) \n",
    "else: \n",
    "    print(first+\" not occur before \"+second+\" everytime\") "
   ]
  },
  {
   "cell_type": "code",
   "execution_count": null,
   "id": "b616cb7c",
   "metadata": {},
   "outputs": [],
   "source": [
    "let str = \"This is a test!\";\n",
    "\n",
    "const [even, odd] = [...str].reduce((r,char,i) => (r[i%2].push(char), r), [[],[]])\n",
    "\n",
    "console.log(odd.join(''))\n",
    "console.log(even.join(''))"
   ]
  },
  {
   "cell_type": "code",
   "execution_count": null,
   "id": "982e84f1",
   "metadata": {},
   "outputs": [],
   "source": [
    "def find_gcd(x, y):\n",
    "     \n",
    "    while(y):\n",
    "        x, y = y, x % y\n",
    "     \n",
    "    return x\n",
    "         \n",
    "# Driver Code       \n",
    "l = [2, 4, 6, 8, 16]\n",
    " \n",
    "num1 = l[0]\n",
    "num2 = l[1]\n",
    "gcd = find_gcd(num1, num2)\n",
    " \n",
    "for i in range(2, len(l)):\n",
    "    gcd = find_gcd(gcd, l[i])\n",
    "     \n",
    "print(gcd)"
   ]
  }
 ],
 "metadata": {
  "kernelspec": {
   "display_name": "Python 3",
   "language": "python",
   "name": "python3"
  },
  "language_info": {
   "codemirror_mode": {
    "name": "ipython",
    "version": 3
   },
   "file_extension": ".py",
   "mimetype": "text/x-python",
   "name": "python",
   "nbconvert_exporter": "python",
   "pygments_lexer": "ipython3",
   "version": "3.8.8"
  }
 },
 "nbformat": 4,
 "nbformat_minor": 5
}
